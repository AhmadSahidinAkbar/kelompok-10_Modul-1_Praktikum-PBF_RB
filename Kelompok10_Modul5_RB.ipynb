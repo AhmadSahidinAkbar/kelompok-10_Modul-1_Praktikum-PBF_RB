{
  "nbformat": 4,
  "nbformat_minor": 0,
  "metadata": {
    "colab": {
      "provenance": []
    },
    "kernelspec": {
      "name": "python3",
      "display_name": "Python 3"
    },
    "language_info": {
      "name": "python"
    }
  },
  "cells": [
    {
      "cell_type": "code",
      "execution_count": 1,
      "metadata": {
        "colab": {
          "base_uri": "https://localhost:8080/"
        },
        "id": "s-lafpnK23Rn",
        "outputId": "ffe509d3-0cf0-4269-a94b-b9dc63b80468"
      },
      "outputs": [
        {
          "output_type": "stream",
          "name": "stdout",
          "text": [
            "Execution time of example_function: 0.13966989517211914 seconds\n",
            "Result: 499999500000\n"
          ]
        }
      ],
      "source": [
        "import time\n",
        "\n",
        "def time_execution(func):\n",
        "    def wrapper(*args, **kwargs):\n",
        "        start_time = time.time()\n",
        "        result = func(*args, **kwargs)\n",
        "        end_time = time.time()\n",
        "        execution_time = end_time - start_time\n",
        "        print(f\"Execution time of {func.__name__}: {execution_time} seconds\")\n",
        "        return result\n",
        "    return wrapper\n",
        "\n",
        "@time_execution\n",
        "def example_function(n):\n",
        "    # Fungsi contoh\n",
        "    total = 0\n",
        "    for i in range(n):\n",
        "        total += i\n",
        "    return total\n",
        "\n",
        "# Contoh penggunaan\n",
        "result = example_function(1000000)\n",
        "print(\"Result:\", result)"
      ]
    }
  ]
}